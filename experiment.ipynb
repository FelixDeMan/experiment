{
 "cells": [
  {
   "cell_type": "code",
   "execution_count": 31,
   "metadata": {},
   "outputs": [
    {
     "name": "stdout",
     "output_type": "stream",
     "text": [
      "test_folder\n"
     ]
    }
   ],
   "source": [
    "parentfolder = 'test'\n",
    "folder = 'folder'\n",
    "repo = \"_\".join([parentfolder, folder])\n",
    "print(repo)"
   ]
  },
  {
   "cell_type": "code",
   "execution_count": null,
   "metadata": {},
   "outputs": [],
   "source": [
    "import os\n",
    "os.environ[\"KMP_DUPLICATE_LIB_OK\"]=\"TRUE\"\n",
    "#os.chdir('..')\n",
    "for folder in os.listdir('runs'):\n",
    "# Absolute paths to configuration files\n",
    "    accelerate_config_file = os.path.abspath('kohya-trainer/accelerate_config/config.yaml')\n",
    "    dataset_config_file = os.path.abspath(f'runs/{folder}/dataset_config.toml')\n",
    "    config_file = os.path.abspath(f'runs/{folder}/training_config.toml')\n",
    "\n",
    "# Change working directory to the directory containing train_network.py\n",
    "\n",
    "# Launch the training script with Accelerate\n",
    "    #!accelerate launch --config_file={accelerate_config_file} --num_cpu_threads_per_process=1 kohya-trainer/train_network.py --dataset_config={dataset_config_file} --config_file={config_file}\n",
    "    folder = os.path.join('runs', folder)\n",
    "    for lora_file in os.listdir(folder):\n",
    "        if lora_file.endswith('.safetensors'):\n",
    "            print(lora_file)\n",
    "            !python kohya-trainer/gen_img_diffusers.py --ckpt runwayml/stable-diffusion-v1-5 --outdir {folder} --xformers --fp16 --sampler k_euler_a --steps 50 --batch_size 4  --images_per_prompt 10 --from_file prompts.txt --seed 1001    --network_module networks.lora networks.lora --network_weights {lora_file}"
   ]
  },
  {
   "cell_type": "code",
   "execution_count": null,
   "metadata": {},
   "outputs": [],
   "source": []
  }
 ],
 "metadata": {
  "kernelspec": {
   "display_name": "experiment",
   "language": "python",
   "name": "python3"
  },
  "language_info": {
   "codemirror_mode": {
    "name": "ipython",
    "version": 3
   },
   "file_extension": ".py",
   "mimetype": "text/x-python",
   "name": "python",
   "nbconvert_exporter": "python",
   "pygments_lexer": "ipython3",
   "version": "3.10.9"
  },
  "orig_nbformat": 4
 },
 "nbformat": 4,
 "nbformat_minor": 2
}
